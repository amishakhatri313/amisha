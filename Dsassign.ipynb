{
  "nbformat": 4,
  "nbformat_minor": 0,
  "metadata": {
    "colab": {
      "name": "Dsassign.ipynb",
      "provenance": [],
      "authorship_tag": "ABX9TyMgwEqUQi9+Sse1efZFFuWq",
      "include_colab_link": true
    },
    "kernelspec": {
      "name": "python3",
      "display_name": "Python 3"
    }
  },
  "cells": [
    {
      "cell_type": "markdown",
      "metadata": {
        "id": "view-in-github",
        "colab_type": "text"
      },
      "source": [
        "<a href=\"https://colab.research.google.com/github/amishakhatri313/amisha/blob/master/Dsassign.ipynb\" target=\"_parent\"><img src=\"https://colab.research.google.com/assets/colab-badge.svg\" alt=\"Open In Colab\"/></a>"
      ]
    },
    {
      "cell_type": "code",
      "metadata": {
        "id": "5khdnpBqRVPl",
        "colab_type": "code",
        "colab": {}
      },
      "source": [
        " \n",
        "import collections \n",
        "DoubleEnd = collections.deque([\"apple\",\"mango\",\"grapes\"])\n",
        "print(DoubleEnd)\n",
        "\n",
        "#append on right side\n",
        "print(\"Adding to right:\")\n",
        "DoubleEnd.append(\"lichi\")\n",
        "print(DoubleEnd)\n",
        "\n",
        "#append on left side\n",
        "print(\"Adding to left:\")\n",
        "DoubleEnd.append(\"pomegranate\")\n",
        "print(DoubleEnd)\n",
        "\n",
        "#reverse\n",
        "print(\"Reversing deque:\")\n",
        "DoubleEnd.reverse()\n",
        "print(DoubleEnd)"
      ],
      "execution_count": null,
      "outputs": []
    }
  ]
}